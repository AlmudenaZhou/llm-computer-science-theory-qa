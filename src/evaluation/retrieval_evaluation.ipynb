{
 "cells": [
  {
   "cell_type": "code",
   "execution_count": 2,
   "metadata": {},
   "outputs": [
    {
     "name": "stderr",
     "output_type": "stream",
     "text": [
      "c:\\Users\\Almudena\\miniconda3\\envs\\cs-qa\\Lib\\site-packages\\tqdm\\auto.py:21: TqdmWarning: IProgress not found. Please update jupyter and ipywidgets. See https://ipywidgets.readthedocs.io/en/stable/user_install.html\n",
      "  from .autonotebook import tqdm as notebook_tqdm\n"
     ]
    }
   ],
   "source": [
    "import pandas as pd\n",
    "from evaluation_metrics import evaluate"
   ]
  },
  {
   "cell_type": "code",
   "execution_count": 3,
   "metadata": {},
   "outputs": [],
   "source": [
    "%load_ext autoreload\n",
    "%autoreload 2"
   ]
  },
  {
   "cell_type": "code",
   "execution_count": 4,
   "metadata": {},
   "outputs": [],
   "source": [
    "import sys\n",
    "import os\n",
    "\n",
    "parent_dir = os.path.abspath(os.path.join(os.getcwd(), os.pardir, os.pardir))\n",
    "\n",
    "# Add the parent directory to the system path\n",
    "sys.path.insert(0, parent_dir)\n",
    "\n",
    "\n",
    "from src.client_modules.elastic_search.elastic_search_client import ElasticSearchClient\n",
    "from src.client_modules.embeddings.azure_openai import AzureOpenAIEmbeddingModel"
   ]
  },
  {
   "cell_type": "code",
   "execution_count": 5,
   "metadata": {},
   "outputs": [
    {
     "data": {
      "text/plain": [
       "{'id': 'a7f6bd015c004e119b4a7851e6cd6be9',\n",
       " 'question': 'Can you describe data abstraction?'}"
      ]
     },
     "execution_count": 5,
     "metadata": {},
     "output_type": "execute_result"
    }
   ],
   "source": [
    "ground_truth = pd.read_csv(\"../../data/evaluation_ground_truth.csv\")\n",
    "ground_truth = ground_truth.to_dict(\"records\")\n",
    "ground_truth[0]"
   ]
  },
  {
   "cell_type": "code",
   "execution_count": 6,
   "metadata": {},
   "outputs": [],
   "source": [
    "def wrapper(search_query):\n",
    "\n",
    "    def search_function(q):\n",
    "        index_name = \"cs-theory\"\n",
    "        es_client = ElasticSearchClient(port=9200)\n",
    "        emb_model = AzureOpenAIEmbeddingModel()\n",
    "        question = q[\"question\"]\n",
    "        vector_search_term = emb_model.get_embeddings([question])[0]\n",
    "        search_query[\"query\"][\"script_score\"][\"script\"][\"params\"][\"query_vector\"] = vector_search_term\n",
    "        res = es_client.search(index_name=index_name, search_query=search_query)\n",
    "        return res[\"hits\"][\"hits\"]\n",
    "\n",
    "    return search_function"
   ]
  },
  {
   "cell_type": "code",
   "execution_count": 7,
   "metadata": {},
   "outputs": [],
   "source": [
    "search_query1 = {\n",
    "  \"query\": {\n",
    "    \"script_score\": {\n",
    "      \"query\": {\n",
    "        \"match_all\": {}\n",
    "      },\n",
    "      \"script\": {\n",
    "        \"source\": \"dotProduct(params.query_vector, 'combined_qa_vector') + 1.0\",\n",
    "        \"params\": {\n",
    "          \"query_vector\": \"vector_search_term\"\n",
    "        }\n",
    "      }\n",
    "    }\n",
    "  }\n",
    "}\n",
    "\n",
    "search_query2 = {\n",
    "  \"query\": {\n",
    "    \"script_score\": {\n",
    "      \"query\": { \"match_all\": {} },\n",
    "      \"script\": {\n",
    "        \"source\": \"\"\"\n",
    "          0.5 * dotProduct(params.query_vector, 'combined_qa_vector') +\n",
    "          0.25 * dotProduct(params.query_vector, 'answers_vector') +\n",
    "          0.25 * dotProduct(params.query_vector, 'questions_vector') + 1.0\n",
    "        \"\"\",\n",
    "        \"params\": {\n",
    "          \"query_vector\": \"vector_search_term\"\n",
    "        }\n",
    "      }\n",
    "    }\n",
    "  }\n",
    "}\n",
    "\n",
    "search_query3 = {\n",
    "  \"query\": {\n",
    "    \"script_score\": {\n",
    "      \"query\": { \"match_all\": {} },\n",
    "      \"script\": {\n",
    "        \"source\": \"\"\"\n",
    "          (dotProduct(params.query_vector, 'combined_qa_vector') +\n",
    "           dotProduct(params.query_vector, 'answers_vector') +\n",
    "           dotProduct(params.query_vector, 'questions_vector')) / 3 + 1.0\n",
    "        \"\"\",\n",
    "        \"params\": {\n",
    "          \"query_vector\": \"vector_search_term\"\n",
    "        }\n",
    "      }\n",
    "    }\n",
    "  }\n",
    "}"
   ]
  },
  {
   "cell_type": "code",
   "execution_count": 8,
   "metadata": {},
   "outputs": [],
   "source": [
    "search_function1 = wrapper(search_query1)\n",
    "search_function2 = wrapper(search_query2)\n",
    "search_function3 = wrapper(search_query3)"
   ]
  },
  {
   "cell_type": "code",
   "execution_count": 14,
   "metadata": {},
   "outputs": [
    {
     "name": "stdout",
     "output_type": "stream",
     "text": [
      "Results1: {'hit_rate': 0.9969708443771299, 'mrr': 0.9174866122139872}\n"
     ]
    }
   ],
   "source": [
    "results1 = evaluate(ground_truth, search_function1)\n",
    "print(f\"Results1: {results1}\")"
   ]
  },
  {
   "cell_type": "code",
   "execution_count": 15,
   "metadata": {},
   "outputs": [
    {
     "name": "stdout",
     "output_type": "stream",
     "text": [
      "Results2: {'hit_rate': 0.9954562665656949, 'mrr': 0.9129484382418872}\n"
     ]
    }
   ],
   "source": [
    "results2 = evaluate(ground_truth, search_function2)\n",
    "print(f\"Results2: {results2}\")"
   ]
  },
  {
   "cell_type": "code",
   "execution_count": 16,
   "metadata": {},
   "outputs": [
    {
     "name": "stderr",
     "output_type": "stream",
     "text": [
      "100%|██████████| 2641/2641 [29:04<00:00,  1.51it/s]"
     ]
    },
    {
     "name": "stdout",
     "output_type": "stream",
     "text": [
      "Results3: {'hit_rate': 0.993563044301401, 'mrr': 0.9066280809938514}\n"
     ]
    },
    {
     "name": "stderr",
     "output_type": "stream",
     "text": [
      "\n"
     ]
    }
   ],
   "source": [
    "results3 = evaluate(ground_truth, search_function3)\n",
    "print(f\"Results3: {results3}\")"
   ]
  },
  {
   "cell_type": "code",
   "execution_count": 21,
   "metadata": {},
   "outputs": [
    {
     "data": {
      "text/html": [
       "<div>\n",
       "<style scoped>\n",
       "    .dataframe tbody tr th:only-of-type {\n",
       "        vertical-align: middle;\n",
       "    }\n",
       "\n",
       "    .dataframe tbody tr th {\n",
       "        vertical-align: top;\n",
       "    }\n",
       "\n",
       "    .dataframe thead th {\n",
       "        text-align: right;\n",
       "    }\n",
       "</style>\n",
       "<table border=\"1\" class=\"dataframe\">\n",
       "  <thead>\n",
       "    <tr style=\"text-align: right;\">\n",
       "      <th></th>\n",
       "      <th>hit_rate</th>\n",
       "      <th>mrr</th>\n",
       "    </tr>\n",
       "  </thead>\n",
       "  <tbody>\n",
       "    <tr>\n",
       "      <th>res1</th>\n",
       "      <td>0.996971</td>\n",
       "      <td>0.917487</td>\n",
       "    </tr>\n",
       "    <tr>\n",
       "      <th>res2</th>\n",
       "      <td>0.995456</td>\n",
       "      <td>0.912948</td>\n",
       "    </tr>\n",
       "    <tr>\n",
       "      <th>res3</th>\n",
       "      <td>0.993563</td>\n",
       "      <td>0.906628</td>\n",
       "    </tr>\n",
       "  </tbody>\n",
       "</table>\n",
       "</div>"
      ],
      "text/plain": [
       "      hit_rate       mrr\n",
       "res1  0.996971  0.917487\n",
       "res2  0.995456  0.912948\n",
       "res3  0.993563  0.906628"
      ]
     },
     "execution_count": 21,
     "metadata": {},
     "output_type": "execute_result"
    }
   ],
   "source": [
    "import pandas as pd\n",
    "\n",
    "\n",
    "pd.DataFrame([results1, results2, results3], index=[\"res1\", \"res2\", \"res3\"])"
   ]
  },
  {
   "cell_type": "code",
   "execution_count": null,
   "metadata": {},
   "outputs": [],
   "source": []
  }
 ],
 "metadata": {
  "kernelspec": {
   "display_name": "cs-qa",
   "language": "python",
   "name": "python3"
  },
  "language_info": {
   "codemirror_mode": {
    "name": "ipython",
    "version": 3
   },
   "file_extension": ".py",
   "mimetype": "text/x-python",
   "name": "python",
   "nbconvert_exporter": "python",
   "pygments_lexer": "ipython3",
   "version": "3.12.4"
  }
 },
 "nbformat": 4,
 "nbformat_minor": 2
}
