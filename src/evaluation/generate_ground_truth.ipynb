{
 "cells": [
  {
   "cell_type": "code",
   "execution_count": 2,
   "metadata": {},
   "outputs": [],
   "source": [
    "import json"
   ]
  },
  {
   "cell_type": "code",
   "execution_count": 3,
   "metadata": {},
   "outputs": [],
   "source": [
    "with open(\"../../data/all_qa_cleaned.json\") as file:\n",
    "    intents = json.load(file)"
   ]
  },
  {
   "cell_type": "code",
   "execution_count": 10,
   "metadata": {},
   "outputs": [],
   "source": [
    "prompt_template = \"\"\"You emulate a user of an assistant that answers computer science or data science questions.\n",
    "Formulate 5 alternative questions that the user may ask, based on a list of equivalent questions and a list of equivalent answers\n",
    "separated by \\n\\n. Use as fewer words from the original question and answer as possible.\n",
    "\n",
    "The record:\n",
    "\n",
    "questions: {questions}\n",
    "answers: {answers}\n",
    "\n",
    "Provide the output in parsable JSON without using code blocks with the following structure:\n",
    "\n",
    "[\"question1\", \"question2\", ..., \"question5\"]\n",
    "\"\"\""
   ]
  },
  {
   "cell_type": "code",
   "execution_count": 17,
   "metadata": {},
   "outputs": [
    {
     "name": "stderr",
     "output_type": "stream",
     "text": [
      "c:\\Users\\a.ramirez.lopez\\AppData\\Local\\miniconda3\\envs\\cs-qa\\Lib\\site-packages\\tqdm\\auto.py:21: TqdmWarning: IProgress not found. Please update jupyter and ipywidgets. See https://ipywidgets.readthedocs.io/en/stable/user_install.html\n",
      "  from .autonotebook import tqdm as notebook_tqdm\n",
      "100%|██████████| 533/533 [10:42<00:00,  1.20s/it]\n"
     ]
    }
   ],
   "source": [
    "from src.client_modules.llms.openai.azure_openai import AzureOpenAIClient\n",
    "from tqdm.auto import tqdm\n",
    "\n",
    "\n",
    "azure_oai = AzureOpenAIClient()\n",
    "\n",
    "ground_truth_questions = {}\n",
    "for intent in tqdm(intents):\n",
    "    prompt = prompt_template.format(questions='\\n\\n'.join(intent[\"patterns\"]), \n",
    "                                    answers='\\n\\n'.join(intent[\"responses\"]))\n",
    "    response = azure_oai.chat([{\"role\": \"user\", \"content\": prompt}])\n",
    "    json_response = response.choices[0].message.content\n",
    "    ground_truth_questions[intent[\"id\"]] = json_response"
   ]
  },
  {
   "cell_type": "code",
   "execution_count": 33,
   "metadata": {},
   "outputs": [],
   "source": [
    "import json\n",
    "\n",
    "with open(\"../../data/raw_evaluation_ground_truth.json\", \"w\") as file:\n",
    "    json.dump(ground_truth_questions, file)"
   ]
  },
  {
   "cell_type": "code",
   "execution_count": 29,
   "metadata": {},
   "outputs": [
    {
     "name": "stderr",
     "output_type": "stream",
     "text": [
      "533it [00:00, 269085.70it/s]\n"
     ]
    }
   ],
   "source": [
    "from json import JSONDecodeError\n",
    "\n",
    "\n",
    "ground_truth_results = []\n",
    "wrong_json_index = []\n",
    "for index, (id, questions) in tqdm(enumerate(ground_truth_questions.items())):\n",
    "    try:\n",
    "        json_questions = json.loads(questions)\n",
    "        for json_question in json_questions:\n",
    "            ind_ground_truth = {\"id\": id,\n",
    "                                \"question\": json_question}\n",
    "            ground_truth_results.append(ind_ground_truth)\n",
    "    except JSONDecodeError:\n",
    "        wrong_json_index.append(index)"
   ]
  },
  {
   "cell_type": "code",
   "execution_count": 35,
   "metadata": {},
   "outputs": [],
   "source": [
    "import pandas as pd\n",
    "\n",
    "\n",
    "pd.DataFrame(ground_truth_results).to_csv(\"../../data/evaluation_ground_truth.csv\", index=False)"
   ]
  }
 ],
 "metadata": {
  "kernelspec": {
   "display_name": "cs-qa",
   "language": "python",
   "name": "python3"
  },
  "language_info": {
   "codemirror_mode": {
    "name": "ipython",
    "version": 3
   },
   "file_extension": ".py",
   "mimetype": "text/x-python",
   "name": "python",
   "nbconvert_exporter": "python",
   "pygments_lexer": "ipython3",
   "version": "3.12.4"
  }
 },
 "nbformat": 4,
 "nbformat_minor": 2
}
