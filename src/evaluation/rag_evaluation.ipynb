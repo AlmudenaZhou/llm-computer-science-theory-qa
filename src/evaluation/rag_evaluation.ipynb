{
 "cells": [
  {
   "cell_type": "code",
   "execution_count": null,
   "metadata": {},
   "outputs": [],
   "source": [
    "%load_ext autoreload\n",
    "%autoreload 2"
   ]
  },
  {
   "cell_type": "code",
   "execution_count": 4,
   "metadata": {},
   "outputs": [],
   "source": [
    "import sys\n",
    "import os\n",
    "\n",
    "import pandas as pd\n",
    "from tqdm import tqdm\n",
    "\n",
    "parent_dir = os.path.abspath(os.path.join(os.getcwd(), os.pardir, os.pardir))\n",
    "\n",
    "# Add the parent directory to the system path\n",
    "sys.path.insert(0, parent_dir)\n",
    "\n",
    "from src.app.assistant import rag_workflow, evaluate_relevance\n",
    "from src.client_modules.llms.openai.azure_openai import AzureOpenAIClient\n",
    "from src.client_modules.embeddings.azure_openai import AzureOpenAIEmbeddingModel"
   ]
  },
  {
   "cell_type": "code",
   "execution_count": 5,
   "metadata": {},
   "outputs": [],
   "source": [
    "ground_truth = pd.read_csv(\"../../data/evaluation_ground_truth.csv\")\n",
    "df_sample = ground_truth.sample(n=200, random_state=1)\n",
    "sample = df_sample.to_dict(orient='records')"
   ]
  },
  {
   "cell_type": "code",
   "execution_count": 6,
   "metadata": {},
   "outputs": [],
   "source": [
    "os.environ[\"GENERATION_TEMPLATE_PATH\"] = \"../../templates/\""
   ]
  },
  {
   "cell_type": "code",
   "execution_count": null,
   "metadata": {},
   "outputs": [],
   "source": [
    "llm_client_name = 'openai'\n",
    "llm_model_name = 'gpt-4o'\n",
    "model_choice = 'openai/gpt-4o'\n",
    "evaluations = []\n",
    "\n",
    "llm_client = AzureOpenAIClient()\n",
    "embedding_client = AzureOpenAIEmbeddingModel()\n",
    "\n",
    "for record in tqdm(sample[:10]):\n",
    "    question = record['question']\n",
    "    response = rag_workflow(question, llm_client, embedding_client=embedding_client)\n",
    "    answer_llm = response.choices[0].message.content\n",
    "    relevance, explanation, _ = evaluate_relevance(question, answer_llm, llm_client)\n",
    "    evaluation = {\"Relevance\": relevance, \"Explanation\": explanation}\n",
    "    evaluations.append((record, answer_llm, evaluation))"
   ]
  },
  {
   "cell_type": "code",
   "execution_count": 27,
   "metadata": {},
   "outputs": [],
   "source": [
    "df_eval = pd.DataFrame(evaluations, columns=['record', 'answer', 'evaluation'])\n",
    "\n",
    "df_eval['id'] = df_eval.record.apply(lambda d: d['id'])\n",
    "df_eval['question'] = df_eval.record.apply(lambda d: d['question'])\n",
    "\n",
    "df_eval['relevance'] = df_eval.evaluation.apply(lambda d: d['Relevance'])\n",
    "df_eval['explanation'] = df_eval.evaluation.apply(lambda d: d['Explanation'])\n",
    "\n",
    "del df_eval['record']\n",
    "del df_eval['evaluation']"
   ]
  },
  {
   "cell_type": "code",
   "execution_count": null,
   "metadata": {},
   "outputs": [],
   "source": [
    "df_eval"
   ]
  },
  {
   "cell_type": "code",
   "execution_count": null,
   "metadata": {},
   "outputs": [],
   "source": [
    "df_eval.relevance.value_counts(normalize=True)"
   ]
  },
  {
   "cell_type": "code",
   "execution_count": 17,
   "metadata": {},
   "outputs": [],
   "source": [
    "os.makedirs('../../data/evaluation')\n",
    "df_eval.to_csv('../../data/evaluation/rag-eval-gpt-4o.csv', index=False)"
   ]
  },
  {
   "cell_type": "code",
   "execution_count": null,
   "metadata": {},
   "outputs": [],
   "source": [
    "llm_model_name = 'gpt-35-turbo'\n",
    "model_choice = 'openai/gpt-35-turbo'\n",
    "evaluations2 = []\n",
    "\n",
    "llm_client = AzureOpenAIClient()\n",
    "embedding_client = AzureOpenAIEmbeddingModel()\n",
    "\n",
    "for record in tqdm(sample):\n",
    "    question = record['question']\n",
    "    response = rag_workflow(question, llm_client, embedding_client=embedding_client)\n",
    "    answer_llm = response.choices[0].message.content\n",
    "    relevance, explanation, _ = evaluate_relevance(question, answer_llm, llm_client)\n",
    "    evaluation = {\"Relevance\": relevance, \"Explanation\": explanation}\n",
    "    evaluations2.append((record, answer_llm, evaluation))"
   ]
  },
  {
   "cell_type": "code",
   "execution_count": 14,
   "metadata": {},
   "outputs": [],
   "source": [
    "df_eval2 = pd.DataFrame(evaluations, columns=['record', 'answer', 'evaluation'])\n",
    "\n",
    "df_eval2['id'] = df_eval2.record.apply(lambda d: d['id'])\n",
    "df_eval2['question'] = df_eval2.record.apply(lambda d: d['question'])\n",
    "\n",
    "df_eval2['relevance'] = df_eval2.evaluation.apply(lambda d: d['Relevance'])\n",
    "df_eval2['explanation'] = df_eval2.evaluation.apply(lambda d: d['Explanation'])\n",
    "\n",
    "del df_eval2['record']\n",
    "del df_eval2['evaluation']"
   ]
  },
  {
   "cell_type": "code",
   "execution_count": null,
   "metadata": {},
   "outputs": [],
   "source": [
    "df_eval2.relevance.value_counts(normalize=True)"
   ]
  },
  {
   "cell_type": "code",
   "execution_count": 19,
   "metadata": {},
   "outputs": [],
   "source": [
    "df_eval2.to_csv('../../data/evaluation/rag-eval-gpt-35-turbo.csv', index=False)"
   ]
  },
  {
   "cell_type": "code",
   "execution_count": null,
   "metadata": {},
   "outputs": [],
   "source": []
  }
 ],
 "metadata": {
  "kernelspec": {
   "display_name": "cs-qa",
   "language": "python",
   "name": "python3"
  },
  "language_info": {
   "codemirror_mode": {
    "name": "ipython",
    "version": 3
   },
   "file_extension": ".py",
   "mimetype": "text/x-python",
   "name": "python",
   "nbconvert_exporter": "python",
   "pygments_lexer": "ipython3",
   "version": "3.12.4"
  }
 },
 "nbformat": 4,
 "nbformat_minor": 2
}
