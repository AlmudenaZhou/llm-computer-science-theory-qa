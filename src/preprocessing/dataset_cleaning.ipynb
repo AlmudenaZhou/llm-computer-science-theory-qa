{
 "cells": [
  {
   "cell_type": "code",
   "execution_count": 76,
   "metadata": {},
   "outputs": [],
   "source": [
    "import json\n",
    "import numpy as np\n",
    "\n",
    "\n",
    "with open(\"../../data/all_qa.json\") as file:\n",
    "    intents = json.load(file)"
   ]
  },
  {
   "cell_type": "markdown",
   "metadata": {},
   "source": [
    "## Preparing the data"
   ]
  },
  {
   "cell_type": "code",
   "execution_count": 89,
   "metadata": {},
   "outputs": [],
   "source": [
    "combined_list = []\n",
    "questions_list = []\n",
    "responses_list = []\n",
    "\n",
    "for intent in intents:\n",
    "    combined = f\"{intent['document']} {'\\n'.join(intent['patterns'])}-{'\\n'.join(intent['responses'])}\"\n",
    "    combined_list.append(combined)\n",
    "    questions_list.append('\\n'.join(intent['patterns']))\n",
    "    responses_list.append('\\n'.join(intent['responses']))"
   ]
  },
  {
   "cell_type": "code",
   "execution_count": 90,
   "metadata": {},
   "outputs": [
    {
     "name": "stdout",
     "output_type": "stream",
     "text": [
      "533 533\n",
      "533 533\n",
      "533 533\n"
     ]
    }
   ],
   "source": [
    "print(len(combined_list), len(set(combined_list)))\n",
    "print(len(questions_list), len(set(questions_list)))\n",
    "print(len(responses_list), len(set(responses_list)))"
   ]
  },
  {
   "cell_type": "code",
   "execution_count": 79,
   "metadata": {},
   "outputs": [],
   "source": [
    "combined_list = np.array(combined_list)\n",
    "questions_list = np.array(questions_list)\n",
    "responses_list = np.array(responses_list)"
   ]
  },
  {
   "cell_type": "markdown",
   "metadata": {},
   "source": [
    "## Getting duplicated qa"
   ]
  },
  {
   "cell_type": "markdown",
   "metadata": {},
   "source": [
    "[1:] after the where function, as we want to keep the first index."
   ]
  },
  {
   "cell_type": "code",
   "execution_count": 80,
   "metadata": {},
   "outputs": [
    {
     "name": "stdout",
     "output_type": "stream",
     "text": [
      "[('Book 500 Data Science Interview Questions by Vamsee Puligadda What is logistic regression? Or State an example when you have used logistic regression recently.-Logistic Regression often referred as logit model is a technique to predict the binary outcome from a linear combination of predictor variables. For example, if you want to predict whether a particular political leader will win the election or not. In this case, the outcome of prediction is binary i.e. 0 or 1 (Win/Lose). The predictor variables here would be the amount of money spent for election campaigning of a particular candidate, the amount of time spent in campaigning, etc.', 2), ('Book 500 Data Science Interview Questions by Vamsee Puligadda What are Recommender Systems?-A subclass of information filtering systems that are meant to predict the preferences or ratings that a user would give to a product. Recommender systems are widely used in movies, news, research articles, products, social tags, music, etc.', 2)]\n",
      "[401 412]\n"
     ]
    }
   ],
   "source": [
    "from collections import Counter\n",
    "\n",
    "queries_with_same_qa = list(filter(lambda x: x[1] > 1, Counter(combined_list).most_common()))\n",
    "print(queries_with_same_qa)\n",
    "\n",
    "if queries_with_same_qa:\n",
    "    qa_index_to_delete = [np.where(combined_list == qa[0])[0][1:] for qa in queries_with_same_qa]\n",
    "    qa_index_to_delete = np.concatenate(qa_index_to_delete)\n",
    "    print(qa_index_to_delete)"
   ]
  },
  {
   "cell_type": "code",
   "execution_count": 81,
   "metadata": {},
   "outputs": [],
   "source": [
    "questions_list = np.delete(questions_list, qa_index_to_delete)\n",
    "responses_list = np.delete(responses_list, qa_index_to_delete)\n",
    "\n",
    "qa_index_to_delete.sort()\n",
    "\n",
    "for ind_index in qa_index_to_delete[::-1]:\n",
    "    intents.pop(ind_index)"
   ]
  },
  {
   "cell_type": "markdown",
   "metadata": {},
   "source": [
    "## Union of the same question with different answer"
   ]
  },
  {
   "cell_type": "code",
   "execution_count": 82,
   "metadata": {},
   "outputs": [
    {
     "name": "stdout",
     "output_type": "stream",
     "text": [
      "[('What do you understand by the term Normal Distribution?', 3), ('What is the difference between supervised and unsupervised machine learning?', 2), ('What Is Linear Regression?', 2), ('Python or R – Which one would you prefer for text analytics?', 2), ('What are Recommender Systems?', 2), ('During analysis, how do you treat missing values?', 2), ('Can you cite some examples where both false positive and false negatives are equally important?', 2), ('How will you define the number of clusters in a clustering algorithm?', 2), ('A certain couple tells you that they have two children, at least one of which is a girl. What is the probability that they have two girls?', 2)]\n",
      "[401, 419, 386, 291, 423, 439, 444, 431, 445, 500]\n"
     ]
    }
   ],
   "source": [
    "queries_with_same_q = list(filter(lambda x: x[1] > 1, Counter(questions_list).most_common()))\n",
    "print(queries_with_same_q)\n",
    "\n",
    "if queries_with_same_q:\n",
    "    if isinstance(questions_list, np.ndarray):\n",
    "        same_q_index = [np.where(questions_list == q[0])[0] for q in queries_with_same_q]\n",
    "\n",
    "        q_index_to_delete = []\n",
    "        for same_q_index_batch in same_q_index:\n",
    "            responses_same_q = [intents[index]['responses'] for index in same_q_index_batch[1:]]\n",
    "            responses_same_q = [x for xs in responses_same_q for x in xs]\n",
    "            intents[same_q_index_batch[0]]['responses'].extend(responses_same_q)\n",
    "            q_index_to_delete.extend(same_q_index_batch[1:])\n",
    "        print(q_index_to_delete)"
   ]
  },
  {
   "cell_type": "code",
   "execution_count": 83,
   "metadata": {},
   "outputs": [
    {
     "name": "stdout",
     "output_type": "stream",
     "text": [
      "{'question_n': '427', 'patterns': ['A certain couple tells you that they have two children, at least one of which is a girl. What is the probability that they have two girls?'], 'responses': ['1/3'], 'document': 'Book 500 Data Science Interview Questions by Vamsee Puligadda', 'id': '2c4dc19bf4ee74e6545b7012af9c5925'}\n",
      "{'question_n': '231', 'patterns': ['How will you define the number of clusters in a clustering algorithm?'], 'responses': ['Though the Clustering Algorithm is not specified, this question is mostly in reference to K-Means clustering where “K” defines the number of clusters. The objective of clustering is to group similar entities in a way that the entities within a group are similar to each other but the groups are different from each other.  For example, the following image shows three different groups.  ![](../../data/books/500 Data Science Interview Questions/500-Data-Science-Interview-Questions.pdf-77-0.png)  Within Sum of squares is generally used to explain the homogeneity within a cluster. If you plot WSS for a range of number of clusters, you will get the plot shown below.  ![](../../data/books/500 Data Science Interview Questions/500-Data-Science-Interview-Questions.pdf-77-1.png)  The Graph is generally known as Elbow Curve. Red circled point in above graph i.e. Number of Cluster =6 is the point after which you don’t see any decrement in WSS. This point is known as the bending point and taken as K in K – Means.  This is the widely used approach but few data scientists also use Hierarchical clustering first to create dendrograms and identify the distinct groups from there.  Now that we have seen the Machine Learning Questions, Let’s continue our Data Science Interview Questions blog with some Probability questions.'], 'document': 'Book 500 Data Science Interview Questions by Vamsee Puligadda', 'id': '8e0fda18eb31aff92ff181d509ec844c'}\n",
      "{'question_n': '230', 'patterns': ['During analysis, how do you treat missing values?'], 'responses': ['The extent of the missing values is identified after identifying the variables with missing values. If any patterns are identified the analyst has to concentrate on them as it could lead to interesting and meaningful business insights.  If there are no patterns identified, then the missing values can be substituted with mean or median values (imputation) or they can simply be ignored. Assigning a default value which can be mean, minimum or maximum value. Getting into the data is important.  If it is a categorical variable, the default value is assigned. The missing value is assigned a default value. If you have a distribution of data coming, for normal distribution give the mean value.  If 80% of the values for a variable are missing then you can answer that you would be dropping the variable instead of treating the missing values.'], 'document': 'Book 500 Data Science Interview Questions by Vamsee Puligadda', 'id': 'b2fe789957fb63a0a719c438879da129'}\n",
      "{'question_n': '225', 'patterns': ['What are Recommender Systems?'], 'responses': ['Recommender Systems are a subclass of information filtering systems that are meant to predict the preferences or ratings that a user would give to a product. Recommender systems are widely used in movies, news, research articles, products, social tags, music, etc. Examples include movie recommenders in IMDB, Netflix & BookMyShow, product recommenders in e-commerce sites like Amazon, eBay & Flipkart, YouTube video recommendations and game recommendations in Xbox.'], 'document': 'Book 500 Data Science Interview Questions by Vamsee Puligadda', 'id': '617c072848940bd5fb678d7b068b3ea0'}\n",
      "{'question_n': '217', 'patterns': ['Can you cite some examples where both false positive and false negatives are equally important?'], 'responses': ['In the Banking industry giving loans is the primary source of making money but at the same time if your repayment rate is not good you will not make any profit, rather you will risk huge losses. Banks don’t want to lose good customers and at the same point in time, they don’t want to acquire bad customers. In this scenario, both the false positives and false negatives become very important to measure.'], 'document': 'Book 500 Data Science Interview Questions by Vamsee Puligadda', 'id': '6285576e2748654027422c65bb663bfd'}\n",
      "{'question_n': '209', 'patterns': ['Python or R – Which one would you prefer for text analytics?'], 'responses': ['We will prefer Python because of the following reasons:  Python would be the best option because it has Pandas library that provides easy to use data structures and high-performance data analysis tools. R is more suitable for machine learning than just text analysis. Python performs faster for all types of text analytics.  **[Python vs R](https://www.edureka.co/blog/r-vs-python/)**'], 'document': 'Book 500 Data Science Interview Questions by Vamsee Puligadda', 'id': '1c5d8dbc1c21207a4a6399b7360de231'}\n",
      "{'question_n': '205', 'patterns': ['What do you understand by the term Normal Distribution?'], 'responses': ['Data is usually distributed in different ways with a bias to the left or to the right or it can all be jumbled up. However, there are chances that data is distributed around a central value without any bias to the left or right and reaches normal distribution in the form of a bell-shaped curve.  The random variables are distributed in the form of a symmetrical bell-shaped curve.  Properties of Nornal Distribution:  1. Unimodal -one mode 2. Symmetrical -left and right halves are mirror images 3. Bell-shaped -maximum height (mode) at the mean 4. Mean, Mode, and Median are all located in the center 5. Asymptotic'], 'document': 'Book 500 Data Science Interview Questions by Vamsee Puligadda', 'id': 'd4681c7c9414aad60bd05a946732d4b0'}\n",
      "{'question_n': '188', 'patterns': ['What do you understand by the term Normal Distribution?'], 'responses': ['![](../../data/books/500 Data Science Interview Questions/500-Data-Science-Interview-Questions.pdf-58-0.png)  Data is usually distributed in different ways with a bias to the left or to the right or it can all be jumbled up. However, there are chances that data is distributed around a central value without any bias to the left or right and reaches normal distribution in the form of a bell shaped curve. The random variables are distributed in the form of an symmetrical bell shaped curve.'], 'document': 'Book 500 Data Science Interview Questions by Vamsee Puligadda', 'id': '58488e518799f8f5affa84f2c706db21'}\n",
      "{'question_n': '171', 'patterns': ['What is the difference between supervised and unsupervised machine learning?'], 'responses': ['Supervised Machine learning:  Supervised machine learning requires training labeled data.  Unsupervised Machine learning:  Unsupervised machine learning doesn’t required labeled data.'], 'document': 'Book 500 Data Science Interview Questions by Vamsee Puligadda', 'id': 'aa060412e01fce0e12b9dbd964ac3673'}\n",
      "{'question_n': '395', 'patterns': ['What Is Linear Regression?'], 'responses': ['Modeling the relationship between a scalar variable y and one or more variables denoted X. In linear regression, models of the unknown parameters are estimated from the data using linear functions. polyfit( x,y2,1) %return 2.1667 -1.3333, i.e 2.1667x-1.3333'], 'document': 'Book 500 Data Science Interview Questions by Vamsee Puligadda', 'id': '08fbe8b3092cacb72f119bfad68705db'}\n"
     ]
    }
   ],
   "source": [
    "responses_list = np.delete(responses_list, q_index_to_delete)\n",
    "\n",
    "q_index_to_delete.sort()\n",
    "\n",
    "for ind_index in q_index_to_delete[::-1]:\n",
    "    print(intents.pop(ind_index))"
   ]
  },
  {
   "cell_type": "markdown",
   "metadata": {},
   "source": [
    "## Analyzing duplicated answers with different questions"
   ]
  },
  {
   "cell_type": "code",
   "execution_count": 84,
   "metadata": {},
   "outputs": [
    {
     "name": "stdout",
     "output_type": "stream",
     "text": [
      "[('Logistic Regression often referred as logit model is a technique to predict the binary outcome from a linear combination of predictor variables. For example, if you want to predict whether a particular political leader will win the election or not. In this case, the outcome of prediction is binary i.e. 0 or 1 (Win/Lose). The predictor variables here would be the amount of money spent for election campaigning of a particular candidate, the amount of time spent in campaigning, etc.', 2)]\n",
      "[297 432]\n"
     ]
    }
   ],
   "source": [
    "queries_with_same_a = list(filter(lambda x: x[1] > 1, Counter(responses_list).most_common()))\n",
    "print(queries_with_same_a)\n",
    "\n",
    "if queries_with_same_a:\n",
    "    same_a_index = [np.where(responses_list == a[0])[0] for a in queries_with_same_a]\n",
    "    same_a_index = np.concatenate(same_a_index)\n",
    "    print(same_a_index)"
   ]
  },
  {
   "cell_type": "markdown",
   "metadata": {},
   "source": [
    "Since there are only one duplicate, I will analyze it by hand."
   ]
  },
  {
   "cell_type": "code",
   "execution_count": 85,
   "metadata": {},
   "outputs": [
    {
     "data": {
      "text/plain": [
       "{'question_n': '34',\n",
       " 'patterns': ['What is logistic regression? Or State an example when you have used logistic regression recently.'],\n",
       " 'responses': ['Logistic Regression often referred as logit model is a technique to predict the binary outcome from a linear combination of predictor variables. For example, if you want to predict whether a particular political leader will win the election or not. In this case, the outcome of prediction is binary i.e. 0 or 1 (Win/Lose). The predictor variables here would be the amount of money spent for election campaigning of a particular candidate, the amount of time spent in campaigning, etc.'],\n",
       " 'document': 'Book 500 Data Science Interview Questions by Vamsee Puligadda',\n",
       " 'id': '46eca99cf9df31d2ef2d5d9d8911c0ea'}"
      ]
     },
     "execution_count": 85,
     "metadata": {},
     "output_type": "execute_result"
    }
   ],
   "source": [
    "intents[297]"
   ]
  },
  {
   "cell_type": "code",
   "execution_count": 86,
   "metadata": {},
   "outputs": [
    {
     "data": {
      "text/plain": [
       "{'question_n': '224',\n",
       " 'patterns': ['What is logistic regression? State an example when you have used logistic regression recently.'],\n",
       " 'responses': ['Logistic Regression often referred as logit model is a technique to predict the binary outcome from a linear combination of predictor variables. For example, if you want to predict whether a particular political leader will win the election or not. In this case, the outcome of prediction is binary i.e. 0 or 1 (Win/Lose). The predictor variables here would be the amount of money spent for election campaigning of a particular candidate, the amount of time spent in campaigning, etc.'],\n",
       " 'document': 'Book 500 Data Science Interview Questions by Vamsee Puligadda',\n",
       " 'id': 'ffa93feaa7f0cc9cf6128c6b4bec50f9'}"
      ]
     },
     "execution_count": 86,
     "metadata": {},
     "output_type": "execute_result"
    }
   ],
   "source": [
    "intents[432]"
   ]
  },
  {
   "cell_type": "markdown",
   "metadata": {},
   "source": [
    "It's the same question except for the Or at the first one after the `?`. I will only keep the second one."
   ]
  },
  {
   "cell_type": "code",
   "execution_count": 87,
   "metadata": {},
   "outputs": [
    {
     "data": {
      "text/plain": [
       "{'question_n': '34',\n",
       " 'patterns': ['What is logistic regression? Or State an example when you have used logistic regression recently.'],\n",
       " 'responses': ['Logistic Regression often referred as logit model is a technique to predict the binary outcome from a linear combination of predictor variables. For example, if you want to predict whether a particular political leader will win the election or not. In this case, the outcome of prediction is binary i.e. 0 or 1 (Win/Lose). The predictor variables here would be the amount of money spent for election campaigning of a particular candidate, the amount of time spent in campaigning, etc.'],\n",
       " 'document': 'Book 500 Data Science Interview Questions by Vamsee Puligadda',\n",
       " 'id': '46eca99cf9df31d2ef2d5d9d8911c0ea'}"
      ]
     },
     "execution_count": 87,
     "metadata": {},
     "output_type": "execute_result"
    }
   ],
   "source": [
    "intents.pop(297)"
   ]
  },
  {
   "cell_type": "markdown",
   "metadata": {},
   "source": [
    "## Saving the new all_qa_cleaned"
   ]
  },
  {
   "cell_type": "code",
   "execution_count": 88,
   "metadata": {},
   "outputs": [],
   "source": [
    "with open(\"../../data/all_qa_cleaned.json\", \"w\") as file:\n",
    "    json.dump(intents, file)"
   ]
  },
  {
   "cell_type": "code",
   "execution_count": null,
   "metadata": {},
   "outputs": [],
   "source": []
  },
  {
   "cell_type": "code",
   "execution_count": null,
   "metadata": {},
   "outputs": [],
   "source": []
  }
 ],
 "metadata": {
  "kernelspec": {
   "display_name": "cs-qa",
   "language": "python",
   "name": "python3"
  },
  "language_info": {
   "codemirror_mode": {
    "name": "ipython",
    "version": 3
   },
   "file_extension": ".py",
   "mimetype": "text/x-python",
   "name": "python",
   "nbconvert_exporter": "python",
   "pygments_lexer": "ipython3",
   "version": "3.12.4"
  }
 },
 "nbformat": 4,
 "nbformat_minor": 2
}
