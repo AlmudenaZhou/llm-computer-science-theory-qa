{
 "cells": [
  {
   "cell_type": "code",
   "execution_count": 2,
   "metadata": {},
   "outputs": [],
   "source": [
    "import json\n",
    "from tqdm import tqdm"
   ]
  },
  {
   "cell_type": "code",
   "execution_count": 42,
   "metadata": {},
   "outputs": [],
   "source": [
    "with open(\"data/all_qa.json\") as file:\n",
    "    intents = json.load(file)"
   ]
  },
  {
   "cell_type": "code",
   "execution_count": 31,
   "metadata": {},
   "outputs": [
    {
     "name": "stdout",
     "output_type": "stream",
     "text": [
      "322 546\n"
     ]
    }
   ],
   "source": [
    "from collections import defaultdict\n",
    "\n",
    "\n",
    "hashes = defaultdict(list)\n",
    "\n",
    "for doc in intents:\n",
    "    doc_id = doc['id']\n",
    "    hashes[doc_id].append(doc)\n",
    "\n",
    "print(len(hashes), len(intents))"
   ]
  },
  {
   "cell_type": "code",
   "execution_count": 4,
   "metadata": {},
   "outputs": [
    {
     "data": {
      "text/plain": [
       "True"
      ]
     },
     "execution_count": 4,
     "metadata": {},
     "output_type": "execute_result"
    }
   ],
   "source": [
    "from dotenv import load_dotenv\n",
    "\n",
    "\n",
    "load_dotenv()"
   ]
  },
  {
   "cell_type": "code",
   "execution_count": 5,
   "metadata": {},
   "outputs": [
    {
     "name": "stdout",
     "output_type": "stream",
     "text": [
      "False\n"
     ]
    }
   ],
   "source": [
    "import torch\n",
    "\n",
    "\n",
    "print(torch.cuda.is_available())"
   ]
  },
  {
   "cell_type": "markdown",
   "metadata": {},
   "source": [
    "# Add intents to ElasticSearch Index"
   ]
  },
  {
   "cell_type": "code",
   "execution_count": 6,
   "metadata": {},
   "outputs": [
    {
     "name": "stderr",
     "output_type": "stream",
     "text": [
      "c:\\Users\\a.ramirez.lopez\\AppData\\Local\\miniconda3\\envs\\cs-qa\\Lib\\site-packages\\sentence_transformers\\cross_encoder\\CrossEncoder.py:11: TqdmWarning: IProgress not found. Please update jupyter and ipywidgets. See https://ipywidgets.readthedocs.io/en/stable/user_install.html\n",
      "  from tqdm.autonotebook import tqdm, trange\n"
     ]
    }
   ],
   "source": [
    "from src.client_modules.embeddings.transformer import TransformerEmbeddingModel\n",
    "\n",
    "\n",
    "emb_model = TransformerEmbeddingModel()"
   ]
  },
  {
   "cell_type": "code",
   "execution_count": 28,
   "metadata": {},
   "outputs": [
    {
     "name": "stderr",
     "output_type": "stream",
     "text": [
      "100%|██████████| 546/546 [01:32<00:00,  5.93it/s]\n"
     ]
    }
   ],
   "source": [
    "embedding_text_template = (\"\"\"Equivalent questions: \\\"\"\"{patterns}\\\"\"\"\n",
    "Equivalent answers:\\\"\"\"{responses}\\\"\"\"\n",
    "\"\"\")\n",
    "\n",
    "\n",
    "for intent in tqdm(intents):\n",
    "    embedding_text = embedding_text_template.format(\n",
    "        patterns='\\n\\n'.join(intent[\"patterns\"]),\n",
    "        responses='\\n\\n\"'.join(intent[\"responses\"])\n",
    "    )\n",
    "    intent['text'] = embedding_text\n",
    "    intent['vector_field'] = emb_model.get_embeddings([embedding_text])[0].tolist()"
   ]
  },
  {
   "cell_type": "code",
   "execution_count": 8,
   "metadata": {},
   "outputs": [],
   "source": [
    "from src.client_modules.elastic_search.elastic_search_client import ElasticSearchClient\n",
    "\n",
    "\n",
    "es_client = ElasticSearchClient(port=9201)\n",
    "\n",
    "index_name = \"cs-theory\""
   ]
  },
  {
   "cell_type": "code",
   "execution_count": 11,
   "metadata": {},
   "outputs": [
    {
     "data": {
      "text/plain": [
       "546"
      ]
     },
     "execution_count": 11,
     "metadata": {},
     "output_type": "execute_result"
    }
   ],
   "source": [
    "len(intents)"
   ]
  },
  {
   "cell_type": "code",
   "execution_count": 14,
   "metadata": {},
   "outputs": [
    {
     "name": "stdout",
     "output_type": "stream",
     "text": [
      "dict_keys(['tag', 'patterns', 'responses', 'document', 'text', 'vector_field'])\n"
     ]
    }
   ],
   "source": [
    "print(intents[0].keys())"
   ]
  },
  {
   "cell_type": "markdown",
   "metadata": {},
   "source": [
    "## Mappings and Index"
   ]
  },
  {
   "cell_type": "markdown",
   "metadata": {},
   "source": [
    "You do not need to specify in ElasticSearch a different type to indicate that they will hold arrays.\n",
    "https://www.elastic.co/guide/en/elasticsearch/reference/current/mapping-types.html#types-array-handling"
   ]
  },
  {
   "cell_type": "code",
   "execution_count": 12,
   "metadata": {},
   "outputs": [
    {
     "data": {
      "text/plain": [
       "ObjectApiResponse({'acknowledged': True, 'shards_acknowledged': True, 'index': 'cs-theory'})"
      ]
     },
     "execution_count": 12,
     "metadata": {},
     "output_type": "execute_result"
    }
   ],
   "source": [
    "index_settings = {\n",
    "    \"settings\": {\n",
    "        \"number_of_shards\": 1,\n",
    "        \"number_of_replicas\": 0\n",
    "    },\n",
    "    \"mappings\": {\n",
    "        \"properties\": {\n",
    "            \"patterns\": {\"type\": \"text\"},\n",
    "            \"responses\": {\"type\": \"text\"},\n",
    "            \"document\": {\"type\": \"text\"},\n",
    "            \"text\": {\"type\": \"text\"} ,\n",
    "            \"vector_field\": {\"type\": \"dense_vector\", \"dims\": 768,\n",
    "                              \"index\": True, \"similarity\": \"cosine\"},\n",
    "        }\n",
    "    }\n",
    "}\n",
    "\n",
    "es_client.create_index(index_name=index_name, index_settings=index_settings)"
   ]
  },
  {
   "cell_type": "markdown",
   "metadata": {},
   "source": [
    "## Add documents into index"
   ]
  },
  {
   "cell_type": "code",
   "execution_count": 13,
   "metadata": {},
   "outputs": [
    {
     "name": "stderr",
     "output_type": "stream",
     "text": [
      "100%|██████████| 546/546 [00:29<00:00, 18.26it/s]\n"
     ]
    }
   ],
   "source": [
    "try:\n",
    "    es_client.index_documents(index_name=index_name, documents=intents)\n",
    "except Exception as e:\n",
    "    print(e)"
   ]
  },
  {
   "cell_type": "markdown",
   "metadata": {},
   "source": [
    "# ElasticSearch Query"
   ]
  },
  {
   "cell_type": "code",
   "execution_count": null,
   "metadata": {},
   "outputs": [],
   "source": [
    "from src.client_modules.embeddings.transformer import TransformerEmbeddingModel "
   ]
  },
  {
   "cell_type": "markdown",
   "metadata": {},
   "source": [
    "### Elastic search connection"
   ]
  },
  {
   "cell_type": "code",
   "execution_count": null,
   "metadata": {},
   "outputs": [],
   "source": [
    "from src.client_modules.elastic_search.elastic_search_client import ElasticSearchClient\n",
    "\n",
    "\n",
    "es_client = ElasticSearchClient(port=9201)"
   ]
  },
  {
   "cell_type": "markdown",
   "metadata": {},
   "source": [
    "## Embeddings"
   ]
  },
  {
   "cell_type": "code",
   "execution_count": 18,
   "metadata": {},
   "outputs": [],
   "source": [
    "question = \"Tell me what is a syntax error\"\n",
    "emb_model = TransformerEmbeddingModel()\n",
    "vector_search_term = emb_model.get_embeddings([question])[0]"
   ]
  },
  {
   "cell_type": "markdown",
   "metadata": {},
   "source": [
    "## Query"
   ]
  },
  {
   "cell_type": "code",
   "execution_count": 19,
   "metadata": {},
   "outputs": [],
   "source": [
    "query = {\n",
    "    \"field\": \"text_vector\",\n",
    "    \"query_vector\": vector_search_term,\n",
    "    \"k\": 5,\n",
    "    \"num_candidates\": 10000, \n",
    "}"
   ]
  },
  {
   "cell_type": "code",
   "execution_count": 23,
   "metadata": {},
   "outputs": [],
   "source": [
    "knn = {\n",
    "    \"field\": \"vector_field\",\n",
    "    \"query_vector\": vector_search_term,\n",
    "    \"k\": 5,\n",
    "    \"num_candidates\": 10000,\n",
    "    # \"filter\": {\n",
    "    #     \"term\": {\n",
    "    #         \"course\": course\n",
    "    #     }\n",
    "    # }\n",
    "}\n",
    "\n",
    "search_query = {\n",
    "    \"knn\": knn,\n",
    "    \"_source\": [\"text\", \"patterns\", \"responses\", \"document\", \"vector_field\"]  # The vars that will be included in the output\n",
    "}"
   ]
  },
  {
   "cell_type": "code",
   "execution_count": 24,
   "metadata": {},
   "outputs": [
    {
     "data": {
      "text/plain": [
       "[{'_index': 'cs-theory',\n",
       "  '_id': 'EdLmOZIBOaYZkJ3YRIU8',\n",
       "  '_score': 0.830681,\n",
       "  '_source': {'patterns': ['What is a syntax error',\n",
       "    'Explain syntax error',\n",
       "    'Why syntax error occurs?'],\n",
       "   'responses': [\"A syntax error is an error in the structure of a programming language's code. It occurs when the code does not conform to the rules of the programming language's syntax. Syntax errors can occur for a variety of reasons, such as using the wrong punctuation, omitting required elements, or using an incorrect keyword. Syntax errors are usually detected by a compiler or interpreter when the code is being compiled or executed, and they can prevent the code from running correctly. To fix a syntax error, the code must be revised to conform to the correct syntax of the programming language.\"],\n",
       "   'text': 'Equivalent questions: \"\"\"What is a syntax error\\nExplain syntax error\\nWhy syntax error occurs?\"\"\"\\nEquivalent answers:\"\"\"A syntax error is an error in the structure of a programming language\\'s code. It occurs when the code does not conform to the rules of the programming language\\'s syntax. Syntax errors can occur for a variety of reasons, such as using the wrong punctuation, omitting required elements, or using an incorrect keyword. Syntax errors are usually detected by a compiler or interpreter when the code is being compiled or executed, and they can prevent the code from running correctly. To fix a syntax error, the code must be revised to conform to the correct syntax of the programming language.\"\"\"\\n'}},\n",
       " {'_index': 'cs-theory',\n",
       "  '_id': 'TNLmOZIBOaYZkJ3YUYX9',\n",
       "  '_score': 0.77581096,\n",
       "  '_source': {'patterns': ['What is existential quantification in predicate logic?',\n",
       "    'Explain the concept of existential quantification.'],\n",
       "   'responses': ['Existential quantification is a concept in predicate logic that quantifies over at least one element in a domain or set. It is denoted by the symbol âˆƒ (there exists) and is used to express statements that are true for at least one member of a domain. For example, the statement âˆƒx P(x) means that there exists an element x in the domain for which the predicate P holds. Existential quantification allows for the existence of specific instances in logic, allowing us to make statements that assert the existence of certain elements.'],\n",
       "   'text': 'Equivalent questions: \"\"\"What is existential quantification in predicate logic?\\nExplain the concept of existential quantification.\"\"\"\\nEquivalent answers:\"\"\"Existential quantification is a concept in predicate logic that quantifies over at least one element in a domain or set. It is denoted by the symbol âˆƒ (there exists) and is used to express statements that are true for at least one member of a domain. For example, the statement âˆƒx P(x) means that there exists an element x in the domain for which the predicate P holds. Existential quantification allows for the existence of specific instances in logic, allowing us to make statements that assert the existence of certain elements.\"\"\"\\n'}},\n",
       " {'_index': 'cs-theory',\n",
       "  '_id': 'G9LmOZIBOaYZkJ3YRoWp',\n",
       "  '_score': 0.7636678,\n",
       "  '_source': {'patterns': ['What is bias in data science?'],\n",
       "   'responses': ['Bias in data science refers to the systematic error or deviation of a model or algorithm from the true underlying relationship it is attempting to model. Bias can occur for a variety of reasons, such as a poorly chosen model, incomplete or unrepresentative data, or incorrect assumptions about the data. Bias can have negative consequences, such as leading to inaccurate or unfair predictions or decisions. For example, a biased model might consistently overestimate or underestimate the value of a certain variable, or it might unfairly favor certain groups over others. It is important to identify and address bias in data science to ensure that models and algorithms are accurate and fair. This can be done through careful data selection and preprocessing, model selection and evaluation, and ongoing monitoring and testing.'],\n",
       "   'text': 'Equivalent questions: \"\"\"What is bias in data science?\"\"\"\\nEquivalent answers:\"\"\"Bias in data science refers to the systematic error or deviation of a model or algorithm from the true underlying relationship it is attempting to model. Bias can occur for a variety of reasons, such as a poorly chosen model, incomplete or unrepresentative data, or incorrect assumptions about the data. Bias can have negative consequences, such as leading to inaccurate or unfair predictions or decisions. For example, a biased model might consistently overestimate or underestimate the value of a certain variable, or it might unfairly favor certain groups over others. It is important to identify and address bias in data science to ensure that models and algorithms are accurate and fair. This can be done through careful data selection and preprocessing, model selection and evaluation, and ongoing monitoring and testing.\"\"\"\\n'}},\n",
       " {'_index': 'cs-theory',\n",
       "  '_id': 'oNLmOZIBOaYZkJ3YY4XO',\n",
       "  '_score': 0.7458797,\n",
       "  '_source': {'patterns': ['What is Deadlock?', 'Explain Deadlock.'],\n",
       "   'responses': ['Deadlock is a situation in a concurrent system where two or more processes or threads are waiting for each other to release a resource, causing a permanent halt in the progress of the system. Deadlock can occur when processes or threads compete for resources, such as shared memory, files, or hardware devices, and acquire them in an incompatible order or with insufficient synchronization. Deadlock can lead to system instability and performance degradation, and it requires careful handling through techniques such as resource allocation, scheduling, and deadlock detection and recovery.'],\n",
       "   'text': 'Equivalent questions: \"\"\"What is Deadlock?\\nExplain Deadlock.\"\"\"\\nEquivalent answers:\"\"\"Deadlock is a situation in a concurrent system where two or more processes or threads are waiting for each other to release a resource, causing a permanent halt in the progress of the system. Deadlock can occur when processes or threads compete for resources, such as shared memory, files, or hardware devices, and acquire them in an incompatible order or with insufficient synchronization. Deadlock can lead to system instability and performance degradation, and it requires careful handling through techniques such as resource allocation, scheduling, and deadlock detection and recovery.\"\"\"\\n'}},\n",
       " {'_index': 'cs-theory',\n",
       "  '_id': 'SNLmOZIBOaYZkJ3YUYUX',\n",
       "  '_score': 0.7447178,\n",
       "  '_source': {'patterns': ['What is propositional logic?',\n",
       "    'Explain the concept of propositional logic.'],\n",
       "   'responses': ['Propositional logic, also known as propositional calculus or sentential logic, is a branch of mathematical logic that deals with the study of logical relationships between propositions or statements. Propositions are expressions that are either true or false, and they can be combined using logical connectives such as AND, OR, NOT, and IMPLIES to form compound propositions. Propositional logic is used in formal reasoning, deductive reasoning, and symbolic logic to analyze and evaluate the truth values of logical statements.'],\n",
       "   'text': 'Equivalent questions: \"\"\"What is propositional logic?\\nExplain the concept of propositional logic.\"\"\"\\nEquivalent answers:\"\"\"Propositional logic, also known as propositional calculus or sentential logic, is a branch of mathematical logic that deals with the study of logical relationships between propositions or statements. Propositions are expressions that are either true or false, and they can be combined using logical connectives such as AND, OR, NOT, and IMPLIES to form compound propositions. Propositional logic is used in formal reasoning, deductive reasoning, and symbolic logic to analyze and evaluate the truth values of logical statements.\"\"\"\\n'}}]"
      ]
     },
     "execution_count": 24,
     "metadata": {},
     "output_type": "execute_result"
    }
   ],
   "source": [
    "res = es_client.search(index_name=index_name, search_query=search_query)\n",
    "res[\"hits\"][\"hits\"]"
   ]
  }
 ],
 "metadata": {
  "kernelspec": {
   "display_name": "llm-zoomcamp-project",
   "language": "python",
   "name": "python3"
  },
  "language_info": {
   "codemirror_mode": {
    "name": "ipython",
    "version": 3
   },
   "file_extension": ".py",
   "mimetype": "text/x-python",
   "name": "python",
   "nbconvert_exporter": "python",
   "pygments_lexer": "ipython3",
   "version": "3.12.4"
  }
 },
 "nbformat": 4,
 "nbformat_minor": 2
}
